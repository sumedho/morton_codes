{
 "cells": [
  {
   "cell_type": "code",
   "execution_count": 2,
   "metadata": {},
   "outputs": [],
   "source": [
    "#import pymorton\n",
    "from numba import jit"
   ]
  },
  {
   "cell_type": "code",
   "execution_count": 2,
   "metadata": {},
   "outputs": [
    {
     "name": "stdout",
     "output_type": "stream",
     "text": [
      "0b10010110000\n",
      "0\n",
      "0\n",
      "0\n",
      "1\n",
      "1\n",
      "0\n",
      "1\n",
      "0\n",
      "0\n",
      "1\n",
      "0\n",
      "0\n",
      "0\n",
      "0\n",
      "0\n"
     ]
    }
   ],
   "source": [
    "x = 1200\n",
    "print(bin(x))\n",
    "for i in range(1, 16):\n",
    "    print((x>>i) & 0b000000000001)"
   ]
  },
  {
   "cell_type": "code",
   "execution_count": 3,
   "metadata": {},
   "outputs": [],
   "source": [
    "@jit(nopython=True)\n",
    "def morton_encode3d(x, y, z):\n",
    "    answer = 0;\n",
    "    for i in range(1,21):\n",
    "        answer |= ((x & (1 << i)) << 2*i) | ((y & (1 << i)) << (2*i + 1)) | ((z & (1 << i)) << (2*i + 2));\n",
    "    return answer\n",
    "\n",
    "@jit(nopython=True)\n",
    "def morton_encode2d(x, y):\n",
    "    answer = 0\n",
    "    for i in range(0, 40):\n",
    "        answer |= ((x & (1 << i)) << i) | ((y & (1 << i)) << (i + 1))\n",
    "    return answer\n",
    "\n",
    "@jit(nopython=True)\n",
    "def morton_decode2d(m):\n",
    "    x = 0\n",
    "    y = 0\n",
    "    for i in range(0, 22):\n",
    "        selector = 1\n",
    "        shift_selector = 2 * i\n",
    "        x |= (m & (selector << shift_selector)) >> i\n",
    "        y |= (m & (selector << (shift_selector + 1))) >> (i + 1)\n",
    "    return x, y\n",
    "\n",
    "@jit(nopython=True)\n",
    "def morton_decode3d(m): \n",
    "    x = 0\n",
    "    y = 0\n",
    "    z = 0\n",
    "    for i in range(0, 22):\n",
    "        selector = 1;\n",
    "        shift_selector = 3 * i\n",
    "        shiftback = 2 * i\n",
    "        x |= (m & (selector << shift_selector)) >> (shiftback)\n",
    "        y |= (m & (selector << (shift_selector + 1))) >> (shiftback + 1)\n",
    "        z |= (m & (selector << (shift_selector + 2))) >> (shiftback + 2)\n",
    "    return x, y, z"
   ]
  },
  {
   "cell_type": "code",
   "execution_count": 4,
   "metadata": {},
   "outputs": [
    {
     "data": {
      "text/plain": [
       "3640"
      ]
     },
     "execution_count": 4,
     "metadata": {},
     "output_type": "execute_result"
    }
   ],
   "source": [
    "morton_encode3d(10,10,10)"
   ]
  },
  {
   "cell_type": "code",
   "execution_count": 85,
   "metadata": {},
   "outputs": [],
   "source": [
    "m = morton2dEncode(2097151,2097151)"
   ]
  },
  {
   "cell_type": "code",
   "execution_count": 87,
   "metadata": {},
   "outputs": [
    {
     "name": "stdout",
     "output_type": "stream",
     "text": [
      "278 ns ± 20 ns per loop (mean ± std. dev. of 7 runs, 1000000 loops each)\n"
     ]
    }
   ],
   "source": [
    "%timeit morton_decode2d(m)"
   ]
  },
  {
   "cell_type": "code",
   "execution_count": 88,
   "metadata": {},
   "outputs": [
    {
     "name": "stdout",
     "output_type": "stream",
     "text": [
      "221 ns ± 16.5 ns per loop (mean ± std. dev. of 7 runs, 1000000 loops each)\n"
     ]
    }
   ],
   "source": [
    "%timeit morton_encode2d(2097151,2097151)"
   ]
  },
  {
   "cell_type": "code",
   "execution_count": 80,
   "metadata": {},
   "outputs": [
    {
     "data": {
      "text/plain": [
       "(2097151, 2097151)"
      ]
     },
     "execution_count": 80,
     "metadata": {},
     "output_type": "execute_result"
    }
   ],
   "source": [
    "m = morton2dEncode(2097151,2097151)\n",
    "morton_decode2d(m)"
   ]
  },
  {
   "cell_type": "code",
   "execution_count": null,
   "metadata": {},
   "outputs": [],
   "source": [
    "%timeit mortonEncode_for(1200,10,10)"
   ]
  },
  {
   "cell_type": "code",
   "execution_count": null,
   "metadata": {},
   "outputs": [],
   "source": [
    "x = 1200\n",
    "y = 10\n",
    "z = 10\n",
    "m = mortonEncode_for(x, y, z)\n",
    "print(\"Morton code: \", m)\n",
    "print(\"Decoded: \", morton_decode(m))"
   ]
  },
  {
   "cell_type": "code",
   "execution_count": null,
   "metadata": {},
   "outputs": [],
   "source": [
    "#// method to seperate bits from a given integer 3 positions apart\n",
    "def splitBy3(a):\n",
    "    x = a & 0x1fffff; #// we only look at the first 21 bits\n",
    "    x = (x | x << 32) & 0x1f00000000ffff; #// shift left 32 bits, OR with self, and 00011111000000000000000000000000000000001111111111111111\n",
    "    x = (x | x << 16) & 0x1f0000ff0000ff; #// shift left 32 bits, OR with self, and 00011111000000000000000011111111000000000000000011111111\n",
    "    x = (x | x << 8) & 0x100f00f00f00f00f; #// shift left 32 bits, OR with self, and 0001000000001111000000001111000000001111000000001111000000000000\n",
    "    x = (x | x << 4) & 0x10c30c30c30c30c3; #// shift left 32 bits, OR with self, and 0001000011000011000011000011000011000011000011000011000100000000\n",
    "    x = (x | x << 2) & 0x1249249249249249;\n",
    "    return x;\n",
    "\n",
    "def mortonEncode_magicbits(x, y, z):\n",
    "    answer = 0;\n",
    "    answer |= splitBy3(x) | splitBy3(y) << 1 | splitBy3(z) << 2;\n",
    "    return answer"
   ]
  },
  {
   "cell_type": "code",
   "execution_count": 5,
   "metadata": {},
   "outputs": [],
   "source": [
    "@jit(nopython=True)\n",
    "def mortonEncode_magicbits(x, y, z):\n",
    "    answer = 0\n",
    "    \n",
    "    x = x & 0x1fffff; \n",
    "    x = (x | x << 32) & 0x1f00000000ffff \n",
    "    x = (x | x << 16) & 0x1f0000ff0000ff \n",
    "    x = (x | x << 8) & 0x100f00f00f00f00f\n",
    "    x = (x | x << 4) & 0x10c30c30c30c30c3\n",
    "    x = (x | x << 2) & 0x1249249249249249\n",
    "    \n",
    "    y = y & 0x1fffff; \n",
    "    y = (y | y << 32) & 0x1f00000000ffff \n",
    "    y = (y | y << 16) & 0x1f0000ff0000ff \n",
    "    y = (y | y << 8) & 0x100f00f00f00f00f\n",
    "    y = (y | y << 4) & 0x10c30c30c30c30c3\n",
    "    y = (y | y << 2) & 0x1249249249249249\n",
    "    \n",
    "    z = z & 0x1fffff; \n",
    "    z = (z | z << 32) & 0x1f00000000ffff \n",
    "    z = (z | z << 16) & 0x1f0000ff0000ff \n",
    "    z = (z | z << 8) & 0x100f00f00f00f00f\n",
    "    z = (z | z << 4) & 0x10c30c30c30c30c3\n",
    "    z = (z | z << 2) & 0x1249249249249249\n",
    "    \n",
    "    answer |= x | y << 1 | z << 2;\n",
    "    return answer"
   ]
  },
  {
   "cell_type": "code",
   "execution_count": 6,
   "metadata": {},
   "outputs": [
    {
     "data": {
      "text/plain": [
       "1092886128"
      ]
     },
     "execution_count": 6,
     "metadata": {},
     "output_type": "execute_result"
    }
   ],
   "source": [
    "m = mortonEncode_magicbits(1500,10,10)\n",
    "m"
   ]
  },
  {
   "cell_type": "code",
   "execution_count": null,
   "metadata": {},
   "outputs": [],
   "source": [
    "1 2 3 1 2 3 1 2 3 1 2 3 1 2 3 1 2 3 1 2 3\n",
    "z y x z y x z y x z y z z y x z y x z y x\n",
    "  1     2     3     4     5     6     7"
   ]
  },
  {
   "cell_type": "code",
   "execution_count": null,
   "metadata": {},
   "outputs": [],
   "source": [
    "x3_mask = 0x9249249249249249\n",
    "y3_mask = 0x2492492492492492\n",
    "z3_mask = 0x4924924924924924\n",
    "xy3_mask = x3_mask | y3_mask\n",
    "xz3_mask = x3_mask | z3_mask\n",
    "yz3_mask = y3_mask | z3_mask\n",
    "\n",
    "zx3_mask = z3_mask | x3_mask\n",
    "yx3_mask = y3_mask | x3_mask\n",
    "zy3_mask = z3_mask | y3_mask\n",
    "\n",
    "\n",
    "x2_mask = 0x55555555\n",
    "y2_mask = 0xAAAAAAAA\n",
    "\n",
    "print(hex(x_mask))\n",
    "print(hex(y_mask))\n",
    "print(hex(z_mask))"
   ]
  },
  {
   "cell_type": "code",
   "execution_count": 22,
   "metadata": {},
   "outputs": [],
   "source": [
    "#/* Add two morton keys (xy interleaving) */\n",
    "def Morton2Add(m1, m2):\n",
    "    x_sum = ( m1 | y2_mask) + (m2 & x2_mask)\n",
    "    y_sum = ( m1 | x2_mask) + (m2 & y2_mask)\n",
    "    return (x_sum & x2_mask) | (y_sum & y2_mask)\n",
    "\n",
    "#/* Add two morton keys (xy interleaving) */\n",
    "def Morton2Sub(m1, m2):\n",
    "    x_sum = ( m1 & x2_mask) - (m2 & x2_mask)\n",
    "    y_sum = ( m1 & y2_mask) - (m2 & y2_mask)\n",
    "    return (x_sum & x2_mask) | (y_sum & y2_mask)\n",
    "\n",
    "#/* Add two morton keys (xyz interleaving) */\n",
    "def Morton3Add(m1, m2):\n",
    "    x_sum = ( m1 | yz3_mask) + (m2 & x3_mask)\n",
    "    y_sum = ( m1 | xz3_mask) + (m2 & y3_mask)\n",
    "    z_sum = ( m1 | xy3_mask) + (m2 & z3_mask)\n",
    "    return (x_sum & x3_mask ) | (y_sum & y3_mask ) | (z_sum & z3_mask)\n",
    "\n",
    "#/* Add two morton keys (xyz interleaving) */\n",
    "def Morton3Sub(m1, m2):\n",
    "    x_sum = ( m1 & x3_mask) - (m2 & x3_mask)\n",
    "    y_sum = ( m1 & y3_mask) - (m2 & y3_mask)\n",
    "    z_sum = ( m1 & z3_mask) - (m2 & z3_mask)\n",
    "    return (x_sum & x3_mask ) | (y_sum & y3_mask ) | (z_sum & z3_mask)\n",
    "\n",
    "#@jit(nopython=True)\n",
    "def mortonEncode_magicbits(x, y, z):\n",
    "    answer = 0\n",
    "    \n",
    "    x = x & 0x1fffff; \n",
    "    x = (x | x << 32) & 0x1f00000000ffff \n",
    "    x = (x | x << 16) & 0x1f0000ff0000ff \n",
    "    x = (x | x << 8) & 0x100f00f00f00f00f\n",
    "    x = (x | x << 4) & 0x10c30c30c30c30c3\n",
    "    x = (x | x << 2) & 0x1249249249249249\n",
    "    \n",
    "    y = y & 0x1fffff; \n",
    "    y = (y | y << 32) & 0x1f00000000ffff \n",
    "    y = (y | y << 16) & 0x1f0000ff0000ff \n",
    "    y = (y | y << 8) & 0x100f00f00f00f00f\n",
    "    y = (y | y << 4) & 0x10c30c30c30c30c3\n",
    "    y = (y | y << 2) & 0x1249249249249249\n",
    "    \n",
    "    z = z & 0x1fffff; \n",
    "    z = (z | z << 32) & 0x1f00000000ffff \n",
    "    z = (z | z << 16) & 0x1f0000ff0000ff \n",
    "    z = (z | z << 8) & 0x100f00f00f00f00f\n",
    "    z = (z | z << 4) & 0x10c30c30c30c30c3\n",
    "    z = (z | z << 2) & 0x1249249249249249\n",
    "    \n",
    "    answer |= x | y << 1 | z << 2;\n",
    "    return answer\n",
    "\n"
   ]
  },
  {
   "cell_type": "code",
   "execution_count": 33,
   "metadata": {},
   "outputs": [
    {
     "name": "stdout",
     "output_type": "stream",
     "text": [
      "9223372036854775807\n",
      "0b111111111111111111111111111111111111111111111111111111111111111\n"
     ]
    },
    {
     "data": {
      "text/plain": [
       "(2097151, 2097151, 2097151)"
      ]
     },
     "execution_count": 33,
     "metadata": {},
     "output_type": "execute_result"
    }
   ],
   "source": [
    "# max size for a 64bit int is 3*21 bit number (63 bits).\n",
    "# 2^21 = 2097152 -1 is the max size for each axis at 21 bits\n",
    "\n",
    "m = mortonEncode_magicbits(2097151, 2097151, 2097151)\n",
    "print(m)\n",
    "print(bin(m))\n",
    "morton_decode3d(m)"
   ]
  },
  {
   "cell_type": "code",
   "execution_count": null,
   "metadata": {},
   "outputs": [],
   "source": [
    "m1 = mortonEncode_magicbits(80,100,50)\n",
    "m2 = mortonEncode_magicbits(5, 2, 5)\n",
    "\n",
    "morton_decode(Morton3Sub(m1, m2))"
   ]
  },
  {
   "cell_type": "code",
   "execution_count": null,
   "metadata": {},
   "outputs": [],
   "source": [
    "a = pymorton.interleave(10,10)\n",
    "b = pymorton.interleave(5,5)"
   ]
  }
 ],
 "metadata": {
  "kernelspec": {
   "display_name": "Python 3",
   "language": "python",
   "name": "python3"
  },
  "language_info": {
   "codemirror_mode": {
    "name": "ipython",
    "version": 3
   },
   "file_extension": ".py",
   "mimetype": "text/x-python",
   "name": "python",
   "nbconvert_exporter": "python",
   "pygments_lexer": "ipython3",
   "version": "3.6.7"
  }
 },
 "nbformat": 4,
 "nbformat_minor": 2
}
